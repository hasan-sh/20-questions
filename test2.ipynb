{
 "cells": [
  {
   "cell_type": "code",
   "execution_count": 1,
   "id": "2571c2ff-8a0e-492e-82dc-be94e2f720ef",
   "metadata": {},
   "outputs": [
    {
     "name": "stderr",
     "output_type": "stream",
     "text": [
      "/home/hasan-sh/.virtualenvs/thesis/lib/python3.8/site-packages/tqdm/auto.py:22: TqdmWarning: IProgress not found. Please update jupyter and ipywidgets. See https://ipywidgets.readthedocs.io/en/stable/user_install.html\n",
      "  from .autonotebook import tqdm as notebook_tqdm\n"
     ]
    }
   ],
   "source": [
    "from util import helpers\n",
    "import wikipediaapi\n",
    "import spacy\n",
    "import re\n",
    "from transformers import pipeline\n",
    "from sentence_transformers import SentenceTransformer\n",
    "import opennre\n",
    "from sklearn.metrics.pairwise import cosine_similarity\n",
    "import numpy as np\n",
    "from operator import itemgetter"
   ]
  },
  {
   "cell_type": "code",
   "execution_count": null,
   "id": "050ac0d3-1c9c-4c67-a992-7d15eb4c73ca",
   "metadata": {},
   "outputs": [],
   "source": [
    "# !pip install wikipedia-api spacy transformers sentence_transformers pytest\n",
    "\n",
    "# !pip3 uninstall torch torchvision torchaudio #--extra-index-url https://download.pytorch.org/whl/cu113\n",
    "\n",
    "# !python -m spacy download en_core_web_lg"
   ]
  },
  {
   "cell_type": "code",
   "execution_count": null,
   "id": "235ecb84-43f1-4b81-b9ec-bc57b1527b36",
   "metadata": {
    "tags": []
   },
   "outputs": [],
   "source": []
  },
  {
   "cell_type": "code",
   "execution_count": 2,
   "id": "8965cffe-5730-446d-8b50-4b1121a807ab",
   "metadata": {},
   "outputs": [
    {
     "name": "stderr",
     "output_type": "stream",
     "text": [
      "No model was supplied, defaulted to distilroberta-base (https://huggingface.co/distilroberta-base)\n",
      "2022-04-18 07:50:10,109 - sentence_transformers.SentenceTransformer - INFO - Load pretrained SentenceTransformer: all-mpnet-base-v2\n",
      "2022-04-18 07:50:23,065 - sentence_transformers.SentenceTransformer - INFO - Use pytorch device: cuda\n",
      "2022-04-18 07:50:26,335 - root - INFO - Initializing word embedding with word2vec.\n",
      "2022-04-18 07:50:27,331 - wikipediaapi - INFO - Request URL: https://en.wikipedia.org/w/api.php?action=query&prop=extracts&titles=Borussia_Dortmund&explaintext=1&exsectionformat=wiki\n"
     ]
    }
   ],
   "source": [
    "\n",
    "entity = [{'type': 'uri', 'uri': 'http://yago-knowledge.org/resource/Borussia_Dortmund'}][0]['uri'].rsplit('/', 1)[-1]\n",
    "noHints = [[{'datatype': 'http://www.w3.org/2001/XMLSchema#integer', 'type': 'literal', 'value': '56903', 'uri': '56903', 'prefix_entity': \"'56903'\"}, {'type': 'uri', 'value': 'countryOfOrigin', 'uri': 'http://schema.org/countryOfOrigin', 'prefix': 'http://schema.org/', 'prefix_entity': 'x0:countryOfOrigin'}, {'type': 'uri', 'value': 'United_States', 'uri': 'http://yago-knowledge.org/resource/United_States', 'prefix': 'http://yago-knowledge.org/resource/', 'prefix_entity': 'x1:United\\\\_States'}], [{'datatype': 'http://www.w3.org/2001/XMLSchema#integer', 'type': 'literal', 'value': '21762', 'uri': '21762', 'prefix_entity': \"'21762'\"}, {'type': 'uri', 'value': 'countryOfOrigin', 'uri': 'http://schema.org/countryOfOrigin', 'prefix': 'http://schema.org/', 'prefix_entity': 'x0:countryOfOrigin'}, {'type': 'uri', 'value': 'India', 'uri': 'http://yago-knowledge.org/resource/India', 'prefix': 'http://yago-knowledge.org/resource/', 'prefix_entity': 'x1:India'}], [{'datatype': 'http://www.w3.org/2001/XMLSchema#integer', 'type': 'literal', 'value': '11454', 'uri': '11454', 'prefix_entity': \"'11454'\"}, {'type': 'uri', 'value': 'countryOfOrigin', 'uri': 'http://schema.org/countryOfOrigin', 'prefix': 'http://schema.org/', 'prefix_entity': 'x0:countryOfOrigin'}, {'type': 'uri', 'value': 'United_Kingdom', 'uri': 'http://yago-knowledge.org/resource/United_Kingdom', 'prefix': 'http://yago-knowledge.org/resource/', 'prefix_entity': 'x1:United\\\\_Kingdom'}], [{'datatype': 'http://www.w3.org/2001/XMLSchema#integer', 'type': 'literal', 'value': '8714', 'uri': '8714', 'prefix_entity': \"'8714'\"}, {'type': 'uri', 'value': 'countryOfOrigin', 'uri': 'http://schema.org/countryOfOrigin', 'prefix': 'http://schema.org/', 'prefix_entity': 'x0:countryOfOrigin'}, {'type': 'uri', 'value': 'France', 'uri': \n",
    "'http://yago-knowledge.org/resource/France', 'prefix': 'http://yago-knowledge.org/resource/', 'prefix_entity': 'x1:France'}], [{'datatype': 'http://www.w3.org/2001/XMLSchema#integer', 'type': 'literal', 'value': '7149', 'uri': '7149', 'prefix_entity': \"'7149'\"}, {'type': 'uri', 'value': 'countryOfOrigin', 'uri': 'http://schema.org/countryOfOrigin', 'prefix': 'http://schema.org/', 'prefix_entity': 'x0:countryOfOrigin'}, {'type': 'uri', 'value': 'Germany', 'uri': 'http://yago-knowledge.org/resource/Germany', 'prefix': 'http://yago-knowledge.org/resource/', 'prefix_entity': 'x1:Germany'}], [{'datatype': 'http://www.w3.org/2001/XMLSchema#integer', 'type': 'literal', 'value': '4030', 'uri': '4030', 'prefix_entity': \"'4030'\"}, {'type': 'uri', 'value': 'countryOfOrigin', 'uri': 'http://schema.org/countryOfOrigin', 'prefix': 'http://schema.org/', 'prefix_entity': 'x0:countryOfOrigin'}, {'type': 'uri', 'value': 'Canada', 'uri': 'http://yago-knowledge.org/resource/Canada', 'prefix': 'http://yago-knowledge.org/resource/', 'prefix_entity': 'x1:Canada'}], [{'datatype': 'http://www.w3.org/2001/XMLSchema#integer', 'type': 'literal', 'value': '3855', 'uri': '3855', 'prefix_entity': \"'3855'\"}, {'type': 'uri', 'value': 'countryOfOrigin', 'uri': 'http://schema.org/countryOfOrigin', 'prefix': 'http://schema.org/', 'prefix_entity': 'x0:countryOfOrigin'}, {'type': 'uri', 'value': 'Japan', 'uri': 'http://yago-knowledge.org/resource/Japan', 'prefix': 'http://yago-knowledge.org/resource/', 'prefix_entity': 'x1:Japan'}], [{'datatype': 'http://www.w3.org/2001/XMLSchema#integer', 'type': 'literal', 'value': '3473', 'uri': '3473', 'prefix_entity': \"'3473'\"}, {'type': 'uri', 'value': 'type', 'uri': 'http://www.w3.org/1999/02/22-rdf-syntax-ns#type', 'prefix': 'http://www.w3.org/1999/02/22-rdf-syntax-ns#', 'prefix_entity': 'x2:type'}, {'type': 'uri', 'value': 'Movie', 'uri': 'http://schema.org/Movie', 'prefix': 'http://schema.org/', 'prefix_entity': 'x0:Movie'}], [{'datatype': 'http://www.w3.org/2001/XMLSchema#integer', 'type': 'literal', 'value': '2768', 'uri': '2768', 'prefix_entity': \"'2768'\"}, {'type': 'uri', 'value': 'countryOfOrigin', 'uri': 'http://schema.org/countryOfOrigin', 'prefix': 'http://schema.org/', 'prefix_entity': 'x0:countryOfOrigin'}, {'type': 'uri', 'value': 'Australia', 'uri': 'http://yago-knowledge.org/resource/Australia', 'prefix': 'http://yago-knowledge.org/resource/', 'prefix_entity': 'x1:Australia'}], [{'datatype': 'http://www.w3.org/2001/XMLSchema#integer', 'type': \n",
    "'literal', 'value': '1787', 'uri': '1787', 'prefix_entity': \"'1787'\"}, {'type': 'uri', 'value': 'countryOfOrigin', 'uri': 'http://schema.org/countryOfOrigin', 'prefix': 'http://schema.org/', 'prefix_entity': 'x0:countryOfOrigin'}, {'type': 'uri', 'value': 'Soviet_Union', 'uri': 'http://yago-knowledge.org/resource/Soviet_Union', 'prefix': 'http://yago-knowledge.org/resource/', 'prefix_entity': 'x1:Soviet\\\\_Union'}], [{'datatype': 'http://www.w3.org/2001/XMLSchema#integer', 'type': 'literal', 'value': '183', 'uri': '183', 'prefix_entity': \"'183'\"}, {'type': 'uri', 'value': 'nationality', 'uri': 'http://schema.org/nationality', 'prefix': 'http://schema.org/', 'prefix_entity': 'x0:nationality'}, {'type': 'uri', 'value': 'India', 'uri': 'http://yago-knowledge.org/resource/India', 'prefix': 'http://yago-knowledge.org/resource/', 'prefix_entity': 'x1:India'}], [{'datatype': 'http://www.w3.org/2001/XMLSchema#integer', 'type': 'literal', 'value': '155', 'uri': '155', 'prefix_entity': \"'155'\"}, {'type': 'uri', 'value': 'nationality', 'uri': 'http://schema.org/nationality', 'prefix': 'http://schema.org/', 'prefix_entity': 'x0:nationality'}, {'type': 'uri', 'value': 'Canada', 'uri': 'http://yago-knowledge.org/resource/Canada', 'prefix': 'http://yago-knowledge.org/resource/', 'prefix_entity': 'x1:Canada'}], [{'datatype': 'http://www.w3.org/2001/XMLSchema#integer', 'type': 'literal', 'value': '36', 'uri': '36', 'prefix_entity': \"'36'\"}, {'type': 'uri', 'value': 'hasOccupation', 'uri': 'http://schema.org/hasOccupation', 'prefix': 'http://schema.org/', 'prefix_entity': 'x0:hasOccupation'}, {'type': 'uri', 'value': 'Film_producer', 'uri': 'http://yago-knowledge.org/resource/Film_producer', 'prefix': 'http://yago-knowledge.org/resource/', 'prefix_entity': 'x1:Film\\\\_producer'}], [{'datatype': 'http://www.w3.org/2001/XMLSchema#integer', 'type': 'literal', 'value': '21', 'uri': '21', 'prefix_entity': \"'21'\"}, {'type': 'uri', 'value': 'hasOccupation', 'uri': 'http://schema.org/hasOccupation', 'prefix': 'http://schema.org/', 'prefix_entity': 'x0:hasOccupation'}, {'type': 'uri', 'value': 'Screenwriter', 'uri': 'http://yago-knowledge.org/resource/Screenwriter', 'prefix': 'http://yago-knowledge.org/resource/', 'prefix_entity': 'x1:Screenwriter'}], [{'datatype': 'http://www.w3.org/2001/XMLSchema#integer', 'type': 'literal', 'value': '20', 'uri': '20', 'prefix_entity': \"'20'\"}, {'type': 'uri', 'value': 'hasOccupation', 'uri': 'http://schema.org/hasOccupation', 'prefix': 'http://schema.org/', 'prefix_entity': 'x0:hasOccupation'}, {'type': 'uri', 'value': 'Film_director', 'uri': 'http://yago-knowledge.org/resource/Film_director', 'prefix': 'http://yago-knowledge.org/resource/', 'prefix_entity': 'x1:Film\\\\_director'}]]\n",
    "\n",
    "falseRelations = [[helpers.parseTriple(noHints[i])[1],helpers.parseTriple(noHints[i])[2]] for i in range(len(noHints))]\n",
    "\n",
    "wiki_wiki = wikipediaapi.Wikipedia(\n",
    "        language='en',\n",
    "        extract_format=wikipediaapi.ExtractFormat.WIKI\n",
    ")\n",
    "\n",
    "p_wiki = wiki_wiki.page('{0}'.format(entity))\n",
    "\n",
    "model_BERT = pipeline(\"fill-mask\")#,  model = \"xlm-roberta-base\")\n",
    "\n",
    "model_embedding = SentenceTransformer('all-mpnet-base-v2')\n",
    "model_embedding.cuda()\n",
    "model_re = opennre.get_model('wiki80_cnn_softmax')\n",
    "model_re.cuda()\n",
    "\n",
    "nlp = spacy.load('en_core_web_lg')\n",
    "\n",
    "doc = nlp(p_wiki.text)"
   ]
  },
  {
   "cell_type": "code",
   "execution_count": 3,
   "id": "5be95608-8308-4e1d-a5ce-e0d9cb8f89ba",
   "metadata": {},
   "outputs": [],
   "source": [
    "def cosineSim(x, y):\n",
    "    return cosine_similarity(model_embedding.encode(x, show_progress_bar=False).reshape(1, -1), model_embedding.encode(y, show_progress_bar=False).reshape(1, -1))"
   ]
  },
  {
   "cell_type": "code",
   "execution_count": 4,
   "id": "9841819d-60a3-4ae6-9708-220766e12ccb",
   "metadata": {},
   "outputs": [],
   "source": [
    "def extractRelations(sentence, subj, obj, falsePO, bert=False, reverse=False): \n",
    "    relations = []\n",
    "    for sub_subj in subj:\n",
    "        if sub_subj in sentence:\n",
    "            head_s = sentence.index(sub_subj)\n",
    "            head_e = head_s + len(sub_subj)\n",
    "            tail_s = sentence.index(obj)\n",
    "            tail_e = tail_s + len(obj)\n",
    "            \n",
    "            if bert:\n",
    "                bestResults = model_BERT(f\"{sentence} {sub_subj} <mask> {obj} \")\n",
    "                print(bestResults, falsePO[0])\n",
    "                \n",
    "                i = np.argmax([cosineSim(x['token_str'], falsePO[0]) for x in bestResults[:2]])# if x['score'] > 0.3])\n",
    "                bestResult = bestResults[i]\n",
    "                print(bestResult)\n",
    "                relation = (bestResult['token_str'], bestResult['score'])\n",
    "            else:\n",
    "                relation = model_re.infer({'text': sentence, 'h': {'pos': (head_s, head_e)}, 't': {'pos': (tail_s, tail_e)}})\n",
    "                if reverse:\n",
    "                    relation = model_re.infer({'text': sentence, 't': {'pos': (head_s, head_e)}, 'h': {'pos': (tail_s, tail_e)}})\n",
    "                \n",
    "            relations.append((sub_subj, relation, obj))\n",
    "    return relations"
   ]
  },
  {
   "cell_type": "code",
   "execution_count": 5,
   "id": "02318a04-34e0-4902-870f-15e8d988e144",
   "metadata": {},
   "outputs": [],
   "source": [
    "def validateRelations(relations, falsePO):\n",
    "    best = (0, relations[0])\n",
    "    for relation in relations:\n",
    "        sim = cosineSim(f'{relation[1][0]} {relation[2]}', ' '.join(falsePO))\n",
    "        print(relation)\n",
    "        if best[0] < sim:\n",
    "            best = (sim, relation)\n",
    "    return best"
   ]
  },
  {
   "cell_type": "code",
   "execution_count": 6,
   "id": "8eb650c4",
   "metadata": {},
   "outputs": [],
   "source": [
    "def compareClassifiers(sent, subj, obj, falsePO):\n",
    "    # Calculate for NRE\n",
    "    nreRelations = extractRelations(sent.text, subj, obj, falsePO) # get best 5 candidates, should we consider more?\n",
    "    _, nreBestRelation = validateRelations(nreRelations, falsePO)\n",
    "    print('Best NRE Relation Obtained: ', nreBestRelation)\n",
    "    print('From NRE Relations', nreRelations, '\\n')\n",
    "\n",
    "    # Calculate for BERT\n",
    "    bertRelations = extractRelations(sent.text, subj, obj, falsePO, bert=True) # get best 5 candidates, should we consider more?\n",
    "    __, bertBestRelation = validateRelations(bertRelations, falsePO)\n",
    "    print('Best BERT Relation Obtained: ', bertBestRelation)\n",
    "    print('From BERT Relations', bertRelations, '\\n')\n",
    "    print(sent, obj)\n",
    "    print('FALSE PO ',  falsePO)\n",
    "\n",
    "\n",
    "    # Calculate the similarities and choose the best.\n",
    "    p1 = cosineSim(nreBestRelation[1][0], falsePO[0])\n",
    "    p2 = cosineSim(bertBestRelation[1][0], falsePO[0])\n",
    "\n",
    "    falsePO = ' '.join(falsePO)\n",
    "    print(falsePO)\n",
    "    po1 = cosineSim(f'{nreBestRelation[1][0]} {nreBestRelation[2]}', falsePO)\n",
    "    po2 = cosineSim(f'{bertBestRelation[1][0]} {bertBestRelation[2]}', falsePO)\n",
    "\n",
    "    mean1 = np.mean([p1, po1])\n",
    "    mean2 = np.mean([p2, po2])\n",
    "    print(mean1, mean2)\n",
    "    return ('nre', mean1, nreBestRelation) if mean1 > mean2 else ('bert', mean2, bertBestRelation)\n",
    "    # pass"
   ]
  },
  {
   "cell_type": "code",
   "execution_count": 7,
   "id": "de8518da-80f3-4824-a77b-dfb3672ae1b1",
   "metadata": {},
   "outputs": [],
   "source": [
    "s = 'Swift was around 12 years old, computer repairman and local musician Ronnie Cremer taught her to play guitar.'\n",
    "# s = 'Ballspielverein Borussia 09 e. V. Dortmund, commonly known as Borussia Dortmund (German pronunciation: [boˈʁʊsi̯aː ˈdɔɐ̯tmʊnt] (audio speaker iconlisten)),[2] BVB (pronounced [beːfaʊ̯ˈbeː] (audio speaker iconlisten)), or simply Dortmund (pronounced [ˈdɔʁtmʊnt] (audio speaker iconlisten)), is a German professional sports club based in Dortmund, North Rhine-Westphalia.'\n",
    "# s = 'The Los Angeles Lakers is a good team. They are an American professional basketball team based in Los Angeles.'\n",
    "# s = 'The United States of America (U.S.A. or USA), commonly known as the United States (U.S. or US) or simply America, is a country primarily located in North America.'\n",
    "subject = ['Taylor Swift', 'Taylor', 'Swift'] # TODO: use PoS on the subject.\n",
    "# subject = ['Dortmund', 'Borussia'] # TODO: use PoS on the subject.\n",
    "# subject = ['Los Angeles Lakers', 'Los Angeles', 'Lakers', 'Dortmund'] # TODO: use PoS on the subject.\n",
    "# subject = ['United States', 'States'] # TODO: use PoS on the subject.\n",
    "bestO = 'guitar'\n",
    "# bestO = 'North America'\n",
    "\n",
    "falsePO = ['has occupation', 'Guitarist']"
   ]
  },
  {
   "cell_type": "code",
   "execution_count": 56,
   "id": "fba82043",
   "metadata": {},
   "outputs": [
    {
     "name": "stdout",
     "output_type": "stream",
     "text": [
      "('Swift', ('instrument', 0.8021246790885925), 'guitar')\n",
      "Best NRE Relation Obtained:  ('Swift', ('instrument', 0.8021246790885925), 'guitar')\n",
      "From NRE Relations [('Swift', ('instrument', 0.8021246790885925), 'guitar')] \n",
      "\n",
      "[{'score': 0.5662645697593689, 'token': 1974, 'token_str': ' plays', 'sequence': 'Swift was around 12 years old, computer repairman and local musician Ronnie Cremer taught her to play guitar. Swift plays guitar '}, {'score': 0.16256368160247803, 'token': 702, 'token_str': ' played', 'sequence': 'Swift was around 12 years old, computer repairman and local musician Ronnie Cremer taught her to play guitar. Swift played guitar '}, {'score': 0.07455544918775558, 'token': 13419, 'token_str': ' teaches', 'sequence': 'Swift was around 12 years old, computer repairman and local musician Ronnie Cremer taught her to play guitar. Swift teaches guitar '}, {'score': 0.0710236206650734, 'token': 816, 'token_str': ' playing', 'sequence': 'Swift was around 12 years old, computer repairman and local musician Ronnie Cremer taught her to play guitar. Swift playing guitar '}, {'score': 0.043347399681806564, 'token': 5850, 'token_str': ' taught', 'sequence': 'Swift was around 12 years old, computer repairman and local musician Ronnie Cremer taught her to play guitar. Swift taught guitar '}] has occupation\n",
      "{'score': 0.5662645697593689, 'token': 1974, 'token_str': ' plays', 'sequence': 'Swift was around 12 years old, computer repairman and local musician Ronnie Cremer taught her to play guitar. Swift plays guitar '}\n",
      "('Swift', (' plays', 0.5662645697593689), 'guitar')\n",
      "Best BERT Relation Obtained:  ('Swift', (' plays', 0.5662645697593689), 'guitar')\n",
      "From BERT Relations [('Swift', (' plays', 0.5662645697593689), 'guitar')] \n",
      "\n",
      "Swift was around 12 years old, computer repairman and local musician Ronnie Cremer taught her to play guitar. guitar\n",
      "FALSE PO  ['has occupation', 'Guitarist']\n",
      "has occupation Guitarist\n",
      "0.4229183 0.53417385\n"
     ]
    },
    {
     "data": {
      "text/plain": [
       "('bert', 0.53417385, ('Swift', (' plays', 0.5662645697593689), 'guitar'))"
      ]
     },
     "execution_count": 56,
     "metadata": {},
     "output_type": "execute_result"
    }
   ],
   "source": [
    "compareClassifiers(nlp(s), subject, bestO, falsePO)"
   ]
  },
  {
   "cell_type": "code",
   "execution_count": 14,
   "id": "c5724660-dfd9-463f-9fa1-0bf55c4af643",
   "metadata": {},
   "outputs": [
    {
     "data": {
      "text/plain": [
       "(array([[0.7970922]], dtype=float32), array([[0.83837724]], dtype=float32))"
      ]
     },
     "execution_count": 14,
     "metadata": {},
     "output_type": "execute_result"
    }
   ],
   "source": [
    "cosineSim('musician', 'pianist'), cosineSim('guitar', 'guitarist')"
   ]
  },
  {
   "cell_type": "code",
   "execution_count": null,
   "id": "4d45c798",
   "metadata": {},
   "outputs": [],
   "source": []
  },
  {
   "cell_type": "code",
   "execution_count": null,
   "id": "ed6f4122",
   "metadata": {},
   "outputs": [],
   "source": [
    "classifier(f\"{s} Taylor Swift <mask> guitar \")"
   ]
  },
  {
   "cell_type": "code",
   "execution_count": 15,
   "id": "93abfb41",
   "metadata": {},
   "outputs": [
    {
     "name": "stderr",
     "output_type": "stream",
     "text": [
      "Batches: 100%|██████████| 1/1 [00:00<00:00, 37.33it/s]\n",
      "Batches: 100%|██████████| 1/1 [00:00<00:00, 46.14it/s]\n",
      "Batches: 100%|██████████| 1/1 [00:00<00:00, 46.89it/s]\n",
      "Batches: 100%|██████████| 1/1 [00:00<00:00, 45.99it/s]\n"
     ]
    }
   ],
   "source": [
    "p1 = cosine_sim('instrument', 'had occupation')\n",
    "p2 = cosine_sim('played', 'had occupation')"
   ]
  },
  {
   "cell_type": "code",
   "execution_count": 16,
   "id": "499b47b9",
   "metadata": {},
   "outputs": [
    {
     "name": "stderr",
     "output_type": "stream",
     "text": [
      "Batches: 100%|██████████| 1/1 [00:00<00:00, 44.92it/s]\n",
      "Batches: 100%|██████████| 1/1 [00:00<00:00, 40.75it/s]\n",
      "Batches: 100%|██████████| 1/1 [00:00<00:00, 42.36it/s]\n",
      "Batches: 100%|██████████| 1/1 [00:00<00:00, 45.47it/s]\n"
     ]
    }
   ],
   "source": [
    "po1 = cosine_sim('instrument guitar', 'had occupation Guitarist')\n",
    "po2 = cosine_sim('played guitar', 'had occupation Guitarist')"
   ]
  },
  {
   "cell_type": "code",
   "execution_count": 17,
   "id": "2bba17c9",
   "metadata": {},
   "outputs": [
    {
     "data": {
      "text/plain": [
       "(array([[0.5554023]], dtype=float32), array([[0.7435489]], dtype=float32))"
      ]
     },
     "execution_count": 17,
     "metadata": {},
     "output_type": "execute_result"
    }
   ],
   "source": [
    "po1, po2"
   ]
  },
  {
   "cell_type": "code",
   "execution_count": 18,
   "id": "6dc4b7d9",
   "metadata": {},
   "outputs": [],
   "source": [
    "mean1 = np.mean([p1, po1])\n",
    "mean2 = np.mean([p2, po2])"
   ]
  },
  {
   "cell_type": "code",
   "execution_count": 19,
   "id": "e4de9fd3",
   "metadata": {},
   "outputs": [
    {
     "data": {
      "text/plain": [
       "(0.36996472, 0.48026884)"
      ]
     },
     "execution_count": 19,
     "metadata": {},
     "output_type": "execute_result"
    }
   ],
   "source": [
    "mean1, mean2"
   ]
  },
  {
   "cell_type": "code",
   "execution_count": null,
   "id": "5ad1ccba",
   "metadata": {},
   "outputs": [],
   "source": [
    "mean1, mean2"
   ]
  },
  {
   "cell_type": "code",
   "execution_count": null,
   "id": "6f669a93",
   "metadata": {},
   "outputs": [],
   "source": [
    "\n",
    "classifier(f\"{s} Taylor Swift <mask> guitar \")\n"
   ]
  },
  {
   "cell_type": "code",
   "execution_count": null,
   "id": "cd5c02f1-a444-4151-9dfc-4aefaac8adfc",
   "metadata": {},
   "outputs": [],
   "source": [
    "subject = ['Borussia Dortmund', 'Borussia', 'Dortmund']\n",
    "falsePO = \"country of origin Germany\"\n",
    "falseO = \"Germany\" \n",
    "\n",
    "candidates = []\n",
    "\n",
    "# TODO: pick a more robust sentence splitter.\n",
    "for sentence in doc.sents:\n",
    "    for token in sentence:\n",
    "        chosen = False\n",
    "        if (token.text == \"Borussia\" or token.text == \"Dortmund\") and token.dep_ == \"nsubj\":\n",
    "            # use coreference relations; whether Swift is actually taylor or whether her is referring to taylor as well!\n",
    "            # candidates.append(sentence)\n",
    "            chosen = True\n",
    "            \n",
    "        if chosen:\n",
    "            similar_objs = [[cosine_sim(token.text, falseObject)[0], token] for token in sentence]\n",
    "            similar_objs.sort(key=itemgetter(0), reverse=True)\n",
    "            best_obj = similar_objs[0]    \n",
    "        \n",
    "            candidates.append([sentence, best_obj[0], best_obj[1]])\n",
    "\n",
    "            \n",
    "            \n",
    "# for index, candidate in enumerate(candidates):\n",
    "#     similar_objs = [[cosine_sim(token.text, falseObject)[0], token] for token in candidate]\n",
    "    \n",
    "#     similar_objs.sort(key=itemgetter(0), reverse=True)\n",
    "#     best_obj = similar_objs[0]    \n",
    "    \n",
    "#     candidates[index] = [candidate, best_obj[0], best_obj[1]]\n",
    "\n",
    "candidates.sort(key=itemgetter(1), reverse=True)\n",
    "print(candidates[:5])"
   ]
  },
  {
   "cell_type": "code",
   "execution_count": null,
   "id": "48e118fc-7061-4098-b041-905609442c52",
   "metadata": {},
   "outputs": [],
   "source": [
    "for c in candidates[:5]:\n",
    "    for sub_subject in subject:\n",
    "        head_ \n",
    "        tail_start = c[0].index(c[2])\n",
    "        tail_end = tail_start + len(c[2])\n",
    "    \n",
    "    "
   ]
  },
  {
   "cell_type": "code",
   "execution_count": null,
   "id": "3a4fd196-29d9-4ffb-8d23-6778d604188a",
   "metadata": {},
   "outputs": [],
   "source": [
    "candidates.sort(key=itemgetter(1), reverse=True)\n",
    "for i in candidates[:10]:\n",
    "    print(i, '\\n')"
   ]
  },
  {
   "cell_type": "code",
   "execution_count": null,
   "id": "5d433049-6eb3-4362-abc3-452f995ea0f3",
   "metadata": {},
   "outputs": [],
   "source": [
    "classifier(f\"{s}. United States <mask> Los Angelos Lakers \")"
   ]
  },
  {
   "cell_type": "code",
   "execution_count": null,
   "id": "817760da-eff7-49e1-9425-7f659498b205",
   "metadata": {},
   "outputs": [],
   "source": [
    "\n",
    "falseRelation = \"Borussia Dortmund country of origin Germany\"\n",
    "\n",
    "candidates = []\n",
    "\n",
    "# TODO: pick a more robust sentence splitter.\n",
    "for sentence in doc.sents:\n",
    "    for token in sentence:\n",
    "        if (token.text == \"Borussia\" or token.text == \"Dortmund\") and token.dep_ == \"nsubj\":\n",
    "            # use coreference relations; whether Swift is actually taylor or whether her is referring to taylor as well!\n",
    "            candidates.append([cosine_sim(sentence.text, falseRelation), sentence])\n",
    "\n",
    "candidates.sort(key=itemgetter(0), reverse=True)\n",
    "print(candidates[:5])"
   ]
  },
  {
   "cell_type": "code",
   "execution_count": null,
   "id": "bf69c3ec-ff67-4d74-a760-169506739e6d",
   "metadata": {},
   "outputs": [],
   "source": [
    "update = False\n",
    "finalSentence = None\n",
    "for candidate in candidates[:5]:\n",
    "    # objects = [print(token, token.dep_) for token in candidate[1]]\n",
    "    objects = [token for token in candidate[1] if token.dep_ == 'dobj' or token.dep_ == 'pobj']\n",
    "    similarities = [(cosine_sim(o.text, 'Germany'), o) for o in objects]\n",
    "    similarities.sort(reverse=True)\n",
    "    print('All objects: ', objects, 'from', candidate)\n",
    "    print('sim', similarities)\n",
    "    obj = similarities[0]\n",
    "    print('\\n selected object', obj, '\\n')\n",
    "    if classifier(f\"{candidate[1].text} Borussia Dortmund <mask> {obj[1].text}.\")[0][\"score\"] >= .008: # TODO: consider a higher threshhold. WHat about ambiguity?\n",
    "        result = classifier(f\"{candidate[1].text} Borussia Dortmund <mask> {obj[1]}.\")[0]\n",
    "        pred = result['token_str']\n",
    "        print('result ', result)\n",
    "        if cosine_sim(f'{pred} {obj[1].text}', 'country of origin Germany') > 0.6: # TODO: change threshold!!\n",
    "            update = True\n",
    "            finalSentence = result['sequence']\n",
    "            break\n",
    "            \n",
    "print(finalSentence, update)"
   ]
  }
 ],
 "metadata": {
  "kernelspec": {
   "display_name": "Python 3 (ipykernel)",
   "language": "python",
   "name": "python3"
  },
  "language_info": {
   "codemirror_mode": {
    "name": "ipython",
    "version": 3
   },
   "file_extension": ".py",
   "mimetype": "text/x-python",
   "name": "python",
   "nbconvert_exporter": "python",
   "pygments_lexer": "ipython3",
   "version": "3.8.10"
  }
 },
 "nbformat": 4,
 "nbformat_minor": 5
}
