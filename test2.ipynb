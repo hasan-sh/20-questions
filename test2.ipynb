{
 "cells": [
  {
   "cell_type": "code",
   "execution_count": 26,
   "id": "2571c2ff-8a0e-492e-82dc-be94e2f720ef",
   "metadata": {},
   "outputs": [],
   "source": [
    "from util import helpers\n",
    "import wikipediaapi\n",
    "import spacy\n",
    "import re\n",
    "from transformers import pipeline\n",
    "from sentence_transformers import SentenceTransformer\n",
    "import opennre\n",
    "from sklearn.metrics.pairwise import cosine_similarity\n",
    "import numpy as np\n",
    "from operator import itemgetter"
   ]
  },
  {
   "cell_type": "code",
   "execution_count": 10,
   "id": "050ac0d3-1c9c-4c67-a992-7d15eb4c73ca",
   "metadata": {},
   "outputs": [],
   "source": [
    "# !pip install wikipedia-api spacy transformers sentence_transformers pytest\n",
    "\n",
    "# !pip3 uninstall torch torchvision torchaudio #--extra-index-url https://download.pytorch.org/whl/cu113\n",
    "\n",
    "# !python -m spacy download en_core_web_lg"
   ]
  },
  {
   "cell_type": "code",
   "execution_count": 92,
   "id": "235ecb84-43f1-4b81-b9ec-bc57b1527b36",
   "metadata": {
    "tags": []
   },
   "outputs": [
    {
     "name": "stderr",
     "output_type": "stream",
     "text": [
      "2022-04-15 14:18:58,684 - root - INFO - Initializing word embedding with word2vec.\n"
     ]
    }
   ],
   "source": []
  },
  {
   "cell_type": "code",
   "execution_count": 27,
   "id": "8965cffe-5730-446d-8b50-4b1121a807ab",
   "metadata": {},
   "outputs": [
    {
     "name": "stderr",
     "output_type": "stream",
     "text": [
      "No model was supplied, defaulted to distilroberta-base (https://huggingface.co/distilroberta-base)\n",
      "2022-04-15 13:32:42,476 - sentence_transformers.SentenceTransformer - INFO - Load pretrained SentenceTransformer: all-mpnet-base-v2\n",
      "2022-04-15 13:32:52,247 - sentence_transformers.SentenceTransformer - INFO - Use pytorch device: cuda\n",
      "2022-04-15 13:32:54,869 - wikipediaapi - INFO - Request URL: https://en.wikipedia.org/w/api.php?action=query&prop=extracts&titles=Borussia_Dortmund&explaintext=1&exsectionformat=wiki\n"
     ]
    }
   ],
   "source": [
    "\n",
    "entity = [{'type': 'uri', 'uri': 'http://yago-knowledge.org/resource/Borussia_Dortmund'}][0]['uri'].rsplit('/', 1)[-1]\n",
    "noHints = [[{'datatype': 'http://www.w3.org/2001/XMLSchema#integer', 'type': 'literal', 'value': '56903', 'uri': '56903', 'prefix_entity': \"'56903'\"}, {'type': 'uri', 'value': 'countryOfOrigin', 'uri': 'http://schema.org/countryOfOrigin', 'prefix': 'http://schema.org/', 'prefix_entity': 'x0:countryOfOrigin'}, {'type': 'uri', 'value': 'United_States', 'uri': 'http://yago-knowledge.org/resource/United_States', 'prefix': 'http://yago-knowledge.org/resource/', 'prefix_entity': 'x1:United\\\\_States'}], [{'datatype': 'http://www.w3.org/2001/XMLSchema#integer', 'type': 'literal', 'value': '21762', 'uri': '21762', 'prefix_entity': \"'21762'\"}, {'type': 'uri', 'value': 'countryOfOrigin', 'uri': 'http://schema.org/countryOfOrigin', 'prefix': 'http://schema.org/', 'prefix_entity': 'x0:countryOfOrigin'}, {'type': 'uri', 'value': 'India', 'uri': 'http://yago-knowledge.org/resource/India', 'prefix': 'http://yago-knowledge.org/resource/', 'prefix_entity': 'x1:India'}], [{'datatype': 'http://www.w3.org/2001/XMLSchema#integer', 'type': 'literal', 'value': '11454', 'uri': '11454', 'prefix_entity': \"'11454'\"}, {'type': 'uri', 'value': 'countryOfOrigin', 'uri': 'http://schema.org/countryOfOrigin', 'prefix': 'http://schema.org/', 'prefix_entity': 'x0:countryOfOrigin'}, {'type': 'uri', 'value': 'United_Kingdom', 'uri': 'http://yago-knowledge.org/resource/United_Kingdom', 'prefix': 'http://yago-knowledge.org/resource/', 'prefix_entity': 'x1:United\\\\_Kingdom'}], [{'datatype': 'http://www.w3.org/2001/XMLSchema#integer', 'type': 'literal', 'value': '8714', 'uri': '8714', 'prefix_entity': \"'8714'\"}, {'type': 'uri', 'value': 'countryOfOrigin', 'uri': 'http://schema.org/countryOfOrigin', 'prefix': 'http://schema.org/', 'prefix_entity': 'x0:countryOfOrigin'}, {'type': 'uri', 'value': 'France', 'uri': \n",
    "'http://yago-knowledge.org/resource/France', 'prefix': 'http://yago-knowledge.org/resource/', 'prefix_entity': 'x1:France'}], [{'datatype': 'http://www.w3.org/2001/XMLSchema#integer', 'type': 'literal', 'value': '7149', 'uri': '7149', 'prefix_entity': \"'7149'\"}, {'type': 'uri', 'value': 'countryOfOrigin', 'uri': 'http://schema.org/countryOfOrigin', 'prefix': 'http://schema.org/', 'prefix_entity': 'x0:countryOfOrigin'}, {'type': 'uri', 'value': 'Germany', 'uri': 'http://yago-knowledge.org/resource/Germany', 'prefix': 'http://yago-knowledge.org/resource/', 'prefix_entity': 'x1:Germany'}], [{'datatype': 'http://www.w3.org/2001/XMLSchema#integer', 'type': 'literal', 'value': '4030', 'uri': '4030', 'prefix_entity': \"'4030'\"}, {'type': 'uri', 'value': 'countryOfOrigin', 'uri': 'http://schema.org/countryOfOrigin', 'prefix': 'http://schema.org/', 'prefix_entity': 'x0:countryOfOrigin'}, {'type': 'uri', 'value': 'Canada', 'uri': 'http://yago-knowledge.org/resource/Canada', 'prefix': 'http://yago-knowledge.org/resource/', 'prefix_entity': 'x1:Canada'}], [{'datatype': 'http://www.w3.org/2001/XMLSchema#integer', 'type': 'literal', 'value': '3855', 'uri': '3855', 'prefix_entity': \"'3855'\"}, {'type': 'uri', 'value': 'countryOfOrigin', 'uri': 'http://schema.org/countryOfOrigin', 'prefix': 'http://schema.org/', 'prefix_entity': 'x0:countryOfOrigin'}, {'type': 'uri', 'value': 'Japan', 'uri': 'http://yago-knowledge.org/resource/Japan', 'prefix': 'http://yago-knowledge.org/resource/', 'prefix_entity': 'x1:Japan'}], [{'datatype': 'http://www.w3.org/2001/XMLSchema#integer', 'type': 'literal', 'value': '3473', 'uri': '3473', 'prefix_entity': \"'3473'\"}, {'type': 'uri', 'value': 'type', 'uri': 'http://www.w3.org/1999/02/22-rdf-syntax-ns#type', 'prefix': 'http://www.w3.org/1999/02/22-rdf-syntax-ns#', 'prefix_entity': 'x2:type'}, {'type': 'uri', 'value': 'Movie', 'uri': 'http://schema.org/Movie', 'prefix': 'http://schema.org/', 'prefix_entity': 'x0:Movie'}], [{'datatype': 'http://www.w3.org/2001/XMLSchema#integer', 'type': 'literal', 'value': '2768', 'uri': '2768', 'prefix_entity': \"'2768'\"}, {'type': 'uri', 'value': 'countryOfOrigin', 'uri': 'http://schema.org/countryOfOrigin', 'prefix': 'http://schema.org/', 'prefix_entity': 'x0:countryOfOrigin'}, {'type': 'uri', 'value': 'Australia', 'uri': 'http://yago-knowledge.org/resource/Australia', 'prefix': 'http://yago-knowledge.org/resource/', 'prefix_entity': 'x1:Australia'}], [{'datatype': 'http://www.w3.org/2001/XMLSchema#integer', 'type': \n",
    "'literal', 'value': '1787', 'uri': '1787', 'prefix_entity': \"'1787'\"}, {'type': 'uri', 'value': 'countryOfOrigin', 'uri': 'http://schema.org/countryOfOrigin', 'prefix': 'http://schema.org/', 'prefix_entity': 'x0:countryOfOrigin'}, {'type': 'uri', 'value': 'Soviet_Union', 'uri': 'http://yago-knowledge.org/resource/Soviet_Union', 'prefix': 'http://yago-knowledge.org/resource/', 'prefix_entity': 'x1:Soviet\\\\_Union'}], [{'datatype': 'http://www.w3.org/2001/XMLSchema#integer', 'type': 'literal', 'value': '183', 'uri': '183', 'prefix_entity': \"'183'\"}, {'type': 'uri', 'value': 'nationality', 'uri': 'http://schema.org/nationality', 'prefix': 'http://schema.org/', 'prefix_entity': 'x0:nationality'}, {'type': 'uri', 'value': 'India', 'uri': 'http://yago-knowledge.org/resource/India', 'prefix': 'http://yago-knowledge.org/resource/', 'prefix_entity': 'x1:India'}], [{'datatype': 'http://www.w3.org/2001/XMLSchema#integer', 'type': 'literal', 'value': '155', 'uri': '155', 'prefix_entity': \"'155'\"}, {'type': 'uri', 'value': 'nationality', 'uri': 'http://schema.org/nationality', 'prefix': 'http://schema.org/', 'prefix_entity': 'x0:nationality'}, {'type': 'uri', 'value': 'Canada', 'uri': 'http://yago-knowledge.org/resource/Canada', 'prefix': 'http://yago-knowledge.org/resource/', 'prefix_entity': 'x1:Canada'}], [{'datatype': 'http://www.w3.org/2001/XMLSchema#integer', 'type': 'literal', 'value': '36', 'uri': '36', 'prefix_entity': \"'36'\"}, {'type': 'uri', 'value': 'hasOccupation', 'uri': 'http://schema.org/hasOccupation', 'prefix': 'http://schema.org/', 'prefix_entity': 'x0:hasOccupation'}, {'type': 'uri', 'value': 'Film_producer', 'uri': 'http://yago-knowledge.org/resource/Film_producer', 'prefix': 'http://yago-knowledge.org/resource/', 'prefix_entity': 'x1:Film\\\\_producer'}], [{'datatype': 'http://www.w3.org/2001/XMLSchema#integer', 'type': 'literal', 'value': '21', 'uri': '21', 'prefix_entity': \"'21'\"}, {'type': 'uri', 'value': 'hasOccupation', 'uri': 'http://schema.org/hasOccupation', 'prefix': 'http://schema.org/', 'prefix_entity': 'x0:hasOccupation'}, {'type': 'uri', 'value': 'Screenwriter', 'uri': 'http://yago-knowledge.org/resource/Screenwriter', 'prefix': 'http://yago-knowledge.org/resource/', 'prefix_entity': 'x1:Screenwriter'}], [{'datatype': 'http://www.w3.org/2001/XMLSchema#integer', 'type': 'literal', 'value': '20', 'uri': '20', 'prefix_entity': \"'20'\"}, {'type': 'uri', 'value': 'hasOccupation', 'uri': 'http://schema.org/hasOccupation', 'prefix': 'http://schema.org/', 'prefix_entity': 'x0:hasOccupation'}, {'type': 'uri', 'value': 'Film_director', 'uri': 'http://yago-knowledge.org/resource/Film_director', 'prefix': 'http://yago-knowledge.org/resource/', 'prefix_entity': 'x1:Film\\\\_director'}]]\n",
    "\n",
    "falseRelations = [[helpers.parseTriple(noHints[i])[1],helpers.parseTriple(noHints[i])[2]] for i in range(len(noHints))]\n",
    "\n",
    "wiki_wiki = wikipediaapi.Wikipedia(\n",
    "        language='en',\n",
    "        extract_format=wikipediaapi.ExtractFormat.WIKI\n",
    ")\n",
    "\n",
    "p_wiki = wiki_wiki.page('{0}'.format(entity))\n",
    "\n",
    "classifier = pipeline(\"fill-mask\")#,  model = \"xlm-roberta-base\")\n",
    "\n",
    "model_embedding = SentenceTransformer('all-mpnet-base-v2')\n",
    "model_re = opennre.get_model('wiki80_cnn_softmax')\n",
    "\n",
    "nlp = spacy.load('en_core_web_lg')\n",
    "\n",
    "doc = nlp(p_wiki.text)"
   ]
  },
  {
   "cell_type": "code",
   "execution_count": 141,
   "id": "de8518da-80f3-4824-a77b-dfb3672ae1b1",
   "metadata": {},
   "outputs": [],
   "source": [
    "s = 'The Los Angeles Lakers is a good team. They are an American professional basketball team based in Los Angeles.'\n",
    "# s = 'The United States of America (U.S.A. or USA), commonly known as the United States (U.S. or US) or simply America, is a country primarily located in North America.'\n",
    "subject = ['Los Angeles Lakers', 'Los Angeles', 'Lakers', 'Dortmund'] # TODO: use PoS on the subject.\n",
    "# subject = ['United States', 'States'] # TODO: use PoS on the subject.\n",
    "falseO = 'American'\n",
    "# falseO = 'North America'"
   ]
  },
  {
   "cell_type": "code",
   "execution_count": 69,
   "id": "5be95608-8308-4e1d-a5ce-e0d9cb8f89ba",
   "metadata": {},
   "outputs": [],
   "source": [
    "def cosine_sim(x, y):\n",
    "    return cosine_similarity(model_embedding.encode(x).reshape(1, -1), model_embedding.encode(y).reshape(1, -1))"
   ]
  },
  {
   "cell_type": "code",
   "execution_count": 114,
   "id": "9841819d-60a3-4ae6-9708-220766e12ccb",
   "metadata": {},
   "outputs": [],
   "source": [
    "def extract_relations(sentence, subj, obj, reverse=False): \n",
    "    relations = []\n",
    "    for sub_subj in subj:\n",
    "        if sub_subj in sentence:\n",
    "            head_s = sentence.index(sub_subj)\n",
    "            head_e = head_s + len(sub_subj)\n",
    "            tail_s = sentence.index(obj)\n",
    "            tail_e = tail_s + len(obj)\n",
    "            \n",
    "            result = model_re.infer({'text': sentence, 'h': {'pos': (head_s, head_e)}, 't': {'pos': (tail_s, tail_e)}})\n",
    "            if reverse:\n",
    "                result = model_re.infer({'text': sentence, 't': {'pos': (head_s, head_e)}, 'h': {'pos': (tail_s, tail_e)}})\n",
    "                \n",
    "            relations.append((sub_subj, result, obj))\n",
    "    return relations"
   ]
  },
  {
   "cell_type": "code",
   "execution_count": 97,
   "id": "02318a04-34e0-4902-870f-15e8d988e144",
   "metadata": {},
   "outputs": [],
   "source": [
    "def validate_relations(relations, falsePO):\n",
    "    best = (0, relations[0])\n",
    "    for relation in relations:\n",
    "        sim = cosine_sim(f'{relation[1][0]} {relation[2]}', falsePO)\n",
    "        print(relation)\n",
    "        if best[0] < sim:\n",
    "            best = (sim, relation)\n",
    "    return best"
   ]
  },
  {
   "cell_type": "code",
   "execution_count": 140,
   "id": "72985a13-57da-43e2-b936-39e7c0e3a87e",
   "metadata": {},
   "outputs": [
    {
     "data": {
      "text/plain": [
       "'The Los Angeles Lakers is a good team. They are an American professional basketball team based in Los Angeles.'"
      ]
     },
     "execution_count": 140,
     "metadata": {},
     "output_type": "execute_result"
    }
   ],
   "source": [
    "s"
   ]
  },
  {
   "cell_type": "code",
   "execution_count": 142,
   "id": "c5724660-dfd9-463f-9fa1-0bf55c4af643",
   "metadata": {},
   "outputs": [
    {
     "name": "stdout",
     "output_type": "stream",
     "text": [
      "[('Los Angeles Lakers', ('sport', 0.5515372157096863), 'American'), ('Los Angeles', ('sport', 0.5515372157096863), 'American'), ('Lakers', ('country of citizenship', 0.8018515706062317), 'American')]\n"
     ]
    },
    {
     "name": "stderr",
     "output_type": "stream",
     "text": [
      "Batches: 100%|████████████████████████████████████| 1/1 [00:00<00:00, 54.62it/s]\n",
      "Batches: 100%|████████████████████████████████████| 1/1 [00:00<00:00, 88.32it/s]\n"
     ]
    },
    {
     "name": "stdout",
     "output_type": "stream",
     "text": [
      "('Los Angeles Lakers', ('sport', 0.5515372157096863), 'American')\n"
     ]
    },
    {
     "name": "stderr",
     "output_type": "stream",
     "text": [
      "Batches: 100%|████████████████████████████████████| 1/1 [00:00<00:00, 70.65it/s]\n",
      "Batches: 100%|████████████████████████████████████| 1/1 [00:00<00:00, 84.93it/s]\n"
     ]
    },
    {
     "name": "stdout",
     "output_type": "stream",
     "text": [
      "('Los Angeles', ('sport', 0.5515372157096863), 'American')\n"
     ]
    },
    {
     "name": "stderr",
     "output_type": "stream",
     "text": [
      "Batches: 100%|████████████████████████████████████| 1/1 [00:00<00:00, 86.52it/s]\n",
      "Batches: 100%|████████████████████████████████████| 1/1 [00:00<00:00, 97.32it/s]"
     ]
    },
    {
     "name": "stdout",
     "output_type": "stream",
     "text": [
      "('Lakers', ('country of citizenship', 0.8018515706062317), 'American')\n"
     ]
    },
    {
     "name": "stderr",
     "output_type": "stream",
     "text": [
      "\n"
     ]
    },
    {
     "data": {
      "text/plain": [
       "(array([[0.586882]], dtype=float32),\n",
       " ('Lakers', ('country of citizenship', 0.8018515706062317), 'American'))"
      ]
     },
     "execution_count": 142,
     "metadata": {},
     "output_type": "execute_result"
    }
   ],
   "source": [
    "relations = extract_relations(s, subject, falseO)\n",
    "print(relations)\n",
    "validate_relations(relations, \"country of origin United States\")"
   ]
  },
  {
   "cell_type": "code",
   "execution_count": 7,
   "id": "cd5c02f1-a444-4151-9dfc-4aefaac8adfc",
   "metadata": {},
   "outputs": [
    {
     "name": "stdout",
     "output_type": "stream",
     "text": [
      "[[Ballspielverein Borussia 09 e. V. Dortmund, commonly known as Borussia Dortmund (German pronunciation: [boˈʁʊsi̯aː ˈdɔɐ̯tmʊnt] (listen)), BVB (pronounced [beːfaʊ̯ˈbeː] (listen)), or simply Dortmund (pronounced [ˈdɔʁtmʊnt] (listen)), is a German professional sports club based in Dortmund, North Rhine-Westphalia., array([0.6959425], dtype=float32), German], [\n",
      "Founded in 1909 by eighteen football players from Dortmund, the football team is part of a large membership-based sports club with more than 145,000 members, making Borussia Dortmund the second largest sports club by membership in Germany., array([1.0000002], dtype=float32), Germany], [Since 1974, Dortmund have played their home games at Westfalenstadion; the stadium is the largest in Germany, and Dortmund has the highest average attendance of any association football club in the world., array([1.0000002], dtype=float32), Germany], [Since 1974, Dortmund have played their home games at Westfalenstadion; the stadium is the largest in Germany, and Dortmund has the highest average attendance of any association football club in the world., array([1.0000002], dtype=float32), Germany], [In terms of Deloitte's annual Football Money League, Dortmund was in 2015 ranked as the second richest sports club in Germany, and the 12th richest football team in the world., array([1.0000002], dtype=float32), Germany]]\n"
     ]
    }
   ],
   "source": [
    "subject = ['Borussia Dortmund', 'Borussia', 'Dortmund']\n",
    "falsePO = \"country of origin Germany\"\n",
    "falseO = \"Germany\" \n",
    "\n",
    "candidates = []\n",
    "\n",
    "# TODO: pick a more robust sentence splitter.\n",
    "for sentence in doc.sents:\n",
    "    for token in sentence:\n",
    "        chosen = False\n",
    "        if (token.text == \"Borussia\" or token.text == \"Dortmund\") and token.dep_ == \"nsubj\":\n",
    "            # use coreference relations; whether Swift is actually taylor or whether her is referring to taylor as well!\n",
    "            # candidates.append(sentence)\n",
    "            chosen = True\n",
    "            \n",
    "        if chosen:\n",
    "            similar_objs = [[cosine_sim(token.text, falseObject)[0], token] for token in sentence]\n",
    "            similar_objs.sort(key=itemgetter(0), reverse=True)\n",
    "            best_obj = similar_objs[0]    \n",
    "        \n",
    "            candidates.append([sentence, best_obj[0], best_obj[1]])\n",
    "\n",
    "            \n",
    "            \n",
    "# for index, candidate in enumerate(candidates):\n",
    "#     similar_objs = [[cosine_sim(token.text, falseObject)[0], token] for token in candidate]\n",
    "    \n",
    "#     similar_objs.sort(key=itemgetter(0), reverse=True)\n",
    "#     best_obj = similar_objs[0]    \n",
    "    \n",
    "#     candidates[index] = [candidate, best_obj[0], best_obj[1]]\n",
    "\n",
    "candidates.sort(key=itemgetter(1), reverse=True)\n",
    "print(candidates[:5])"
   ]
  },
  {
   "cell_type": "code",
   "execution_count": null,
   "id": "48e118fc-7061-4098-b041-905609442c52",
   "metadata": {},
   "outputs": [],
   "source": [
    "for c in candidates[:5]:\n",
    "    for sub_subject in subject:\n",
    "        head_ \n",
    "        tail_start = c[0].index(c[2])\n",
    "        tail_end = tail_start + len(c[2])\n",
    "    \n",
    "    "
   ]
  },
  {
   "cell_type": "code",
   "execution_count": 17,
   "id": "3a4fd196-29d9-4ffb-8d23-6778d604188a",
   "metadata": {},
   "outputs": [
    {
     "name": "stdout",
     "output_type": "stream",
     "text": [
      "[In terms of Deloitte's annual Football Money League, Dortmund was in 2015 ranked as the second richest sports club in Germany, and the 12th richest football team in the world., array([1.0000002], dtype=float32), Germany] \n",
      "\n",
      "[Since 1974, Dortmund have played their home games at Westfalenstadion; the stadium is the largest in Germany, and Dortmund has the highest average attendance of any association football club in the world., array([1.0000002], dtype=float32), Germany] \n",
      "\n",
      "[Since 1974, Dortmund have played their home games at Westfalenstadion; the stadium is the largest in Germany, and Dortmund has the highest average attendance of any association football club in the world., array([1.0000002], dtype=float32), Germany] \n",
      "\n",
      "[\n",
      "Founded in 1909 by eighteen football players from Dortmund, the football team is part of a large membership-based sports club with more than 145,000 members, making Borussia Dortmund the second largest sports club by membership in Germany., array([1.0000002], dtype=float32), Germany] \n",
      "\n",
      "[In March 2020, Borussia Dortmund, Bayern Munich, RB Leipzig, and Bayer Leverkusen, the four German UEFA Champions League teams for the 2019–20 season, collectively gave €20 million to Bundesliga and 2., array([0.6959425], dtype=float32), German] \n",
      "\n",
      "[On 6 July 2013, Borussia Dortmund held a charity game to raise money for 2013 German flood victims in the German states of Saxony and Saxony-Anhalt., array([0.6959425], dtype=float32), German] \n",
      "\n",
      "[Dortmund played in their second UEFA Champions League Final against Bayern Munich in the first ever all-German club final at Wembley Stadium on 25 May 2013, which they lost 2–1.In the 2013–14 season, Borussia Dortmund won the 2013 DFL-Supercup 4–2 against rivals Bayern Munich., array([0.6959425], dtype=float32), German] \n",
      "\n",
      "[Dortmund played in their second UEFA Champions League Final against Bayern Munich in the first ever all-German club final at Wembley Stadium on 25 May 2013, which they lost 2–1.In the 2013–14 season, Borussia Dortmund won the 2013 DFL-Supercup 4–2 against rivals Bayern Munich., array([0.6959425], dtype=float32), German] \n",
      "\n",
      "[Borussia Dortmund are one of four German clubs to win the Bundesliga and DFB-Pokal double, along with Bayern Munich, 1., array([0.6959425], dtype=float32), German] \n",
      "\n",
      "[\n",
      "\n",
      "21st century and Borussia \"goes public\"\n",
      "In October 2000, Borussia Dortmund became the first publicly traded club on the German stock market., array([0.6959425], dtype=float32), German] \n",
      "\n"
     ]
    }
   ],
   "source": [
    "candidates.sort(key=itemgetter(1), reverse=True)\n",
    "for i in candidates[:10]:\n",
    "    print(i, '\\n')"
   ]
  },
  {
   "cell_type": "code",
   "execution_count": 91,
   "id": "5d433049-6eb3-4362-abc3-452f995ea0f3",
   "metadata": {},
   "outputs": [
    {
     "data": {
      "text/plain": [
       "[{'score': 0.3337801396846771,\n",
       "  'token': 6772,\n",
       "  'token_str': ' Lakers',\n",
       "  'sequence': 'The Los Angeles Lakers are an American professional basketball team based in Los Angeles.. United States Lakers Los Angelos Lakers '},\n",
       " {'score': 0.09170623868703842,\n",
       "  'token': 12610,\n",
       "  'token_str': ' Basketball',\n",
       "  'sequence': 'The Los Angeles Lakers are an American professional basketball team based in Los Angeles.. United States Basketball Los Angelos Lakers '},\n",
       " {'score': 0.03219366818666458,\n",
       "  'token': 12190,\n",
       "  'token_str': ' Clippers',\n",
       "  'sequence': 'The Los Angeles Lakers are an American professional basketball team based in Los Angeles.. United States Clippers Los Angelos Lakers '},\n",
       " {'score': 0.029032375663518906,\n",
       "  'token': 2762,\n",
       "  'token_str': ' NBA',\n",
       "  'sequence': 'The Los Angeles Lakers are an American professional basketball team based in Los Angeles.. United States NBA Los Angelos Lakers '},\n",
       " {'score': 0.024331482127308846,\n",
       "  'token': 10433,\n",
       "  'token_str': ' Soccer',\n",
       "  'sequence': 'The Los Angeles Lakers are an American professional basketball team based in Los Angeles.. United States Soccer Los Angelos Lakers '}]"
      ]
     },
     "execution_count": 91,
     "metadata": {},
     "output_type": "execute_result"
    }
   ],
   "source": [
    "classifier(f\"{s}. United States <mask> Los Angelos Lakers \")"
   ]
  },
  {
   "cell_type": "code",
   "execution_count": 33,
   "id": "817760da-eff7-49e1-9425-7f659498b205",
   "metadata": {},
   "outputs": [
    {
     "name": "stdout",
     "output_type": "stream",
     "text": [
      "[[array([[0.77792245]], dtype=float32), Ballspielverein Borussia 09 e. V. Dortmund, commonly known as Borussia Dortmund (German pronunciation: [boˈʁʊsi̯aː ˈdɔɐ̯tmʊnt] (listen)), BVB (pronounced [beːfaʊ̯ˈbeː] (listen)), or simply Dortmund (pronounced [ˈdɔʁtmʊnt] (listen)), is a German professional sports club based in Dortmund, North Rhine-Westphalia.], [array([[0.7135918]], dtype=float32), \n",
      "Founded in 1909 by eighteen football players from Dortmund, the football team is part of a large membership-based sports club with more than 145,000 members, making Borussia Dortmund the second largest sports club by membership in Germany.], [array([[0.69223356]], dtype=float32), Borussia Dortmund are one of four German clubs to win the Bundesliga and DFB-Pokal double, along with Bayern Munich, 1.], [array([[0.67901766]], dtype=float32), Borussia Dortmund were the second German club to win the Intercontinental Cup, after Bayern Munich in 1976.As defending champions Dortmund reached the Champions League semi-final in 1998.], [array([[0.67901766]], dtype=float32), Borussia Dortmund were the second German club to win the Intercontinental Cup, after Bayern Munich in 1976.As defending champions Dortmund reached the Champions League semi-final in 1998.]]\n"
     ]
    }
   ],
   "source": [
    "\n",
    "falseRelation = \"Borussia Dortmund country of origin Germany\"\n",
    "\n",
    "candidates = []\n",
    "\n",
    "# TODO: pick a more robust sentence splitter.\n",
    "for sentence in doc.sents:\n",
    "    for token in sentence:\n",
    "        if (token.text == \"Borussia\" or token.text == \"Dortmund\") and token.dep_ == \"nsubj\":\n",
    "            # use coreference relations; whether Swift is actually taylor or whether her is referring to taylor as well!\n",
    "            candidates.append([cosine_sim(sentence.text, falseRelation), sentence])\n",
    "\n",
    "candidates.sort(key=itemgetter(0), reverse=True)\n",
    "print(candidates[:5])"
   ]
  },
  {
   "cell_type": "code",
   "execution_count": 35,
   "id": "bf69c3ec-ff67-4d74-a760-169506739e6d",
   "metadata": {},
   "outputs": [
    {
     "name": "stdout",
     "output_type": "stream",
     "text": [
      "All objects:  [Dortmund, ˈdɔʁtmʊnt, Dortmund] from [array([[0.77792245]], dtype=float32), Ballspielverein Borussia 09 e. V. Dortmund, commonly known as Borussia Dortmund (German pronunciation: [boˈʁʊsi̯aː ˈdɔɐ̯tmʊnt] (listen)), BVB (pronounced [beːfaʊ̯ˈbeː] (listen)), or simply Dortmund (pronounced [ˈdɔʁtmʊnt] (listen)), is a German professional sports club based in Dortmund, North Rhine-Westphalia.]\n",
      "sim [(array([[0.52675045]], dtype=float32), Dortmund), (array([[0.52675045]], dtype=float32), Dortmund), (array([[0.10776877]], dtype=float32), ˈdɔʁtmʊnt)]\n",
      "\n",
      " selected object (array([[0.52675045]], dtype=float32), Dortmund) \n",
      "\n",
      "result  {'score': 0.3734171688556671, 'token': 5429, 'token_str': ' FC', 'sequence': 'Ballspielverein Borussia 09 e. V. Dortmund, commonly known as Borussia Dortmund (German pronunciation: [boˈʁʊsi̯aː ˈdɔɐ̯tmʊnt] (listen)), BVB (pronounced [beːfaʊ̯ˈbeː] (listen)), or simply Dortmund (pronounced [ˈdɔʁtmʊnt] (listen)), is a German professional sports club based in Dortmund, North Rhine-Westphalia. Borussia Dortmund FC Dortmund.'}\n",
      "All objects:  [1909, players, Dortmund, club, members, membership, Germany] from [array([[0.7135918]], dtype=float32), \n",
      "Founded in 1909 by eighteen football players from Dortmund, the football team is part of a large membership-based sports club with more than 145,000 members, making Borussia Dortmund the second largest sports club by membership in Germany.]\n",
      "sim [(array([[1.0000002]], dtype=float32), Germany), (array([[0.52675045]], dtype=float32), Dortmund), (array([[0.26232803]], dtype=float32), membership), (array([[0.260618]], dtype=float32), club), (array([[0.22315833]], dtype=float32), players), (array([[0.2125247]], dtype=float32), 1909), (array([[0.16895474]], dtype=float32), members)]\n",
      "\n",
      " selected object (array([[1.0000002]], dtype=float32), Germany) \n",
      "\n",
      "result  {'score': 0.2192402184009552, 'token': 28028, 'token_str': ' dominates', 'sequence': '\\nFounded in 1909 by eighteen football players from Dortmund, the football team is part of a large membership-based sports club with more than 145,000 members, making Borussia Dortmund the second largest sports club by membership in Germany. Borussia Dortmund dominates Germany.'}\n",
      "All objects:  [clubs, Pokal, Munich] from [array([[0.69223356]], dtype=float32), Borussia Dortmund are one of four German clubs to win the Bundesliga and DFB-Pokal double, along with Bayern Munich, 1.]\n",
      "sim [(array([[0.6319753]], dtype=float32), Munich), (array([[0.32183427]], dtype=float32), clubs), (array([[0.24182382]], dtype=float32), Pokal)]\n",
      "\n",
      " selected object (array([[0.6319753]], dtype=float32), Munich) \n",
      "\n",
      "result  {'score': 0.5753585696220398, 'token': 10402, 'token_str': ' Bayern', 'sequence': 'Borussia Dortmund are one of four German clubs to win the Bundesliga and DFB-Pokal double, along with Bayern Munich, 1. Borussia Dortmund Bayern Munich.'}\n",
      "All objects:  [Cup, Munich, champions, League, 1998] from [array([[0.67901766]], dtype=float32), Borussia Dortmund were the second German club to win the Intercontinental Cup, after Bayern Munich in 1976.As defending champions Dortmund reached the Champions League semi-final in 1998.]\n",
      "sim [(array([[0.6319753]], dtype=float32), Munich), (array([[0.3054096]], dtype=float32), Cup), (array([[0.24875253]], dtype=float32), 1998), (array([[0.20569219]], dtype=float32), champions), (array([[0.1920844]], dtype=float32), League)]\n",
      "\n",
      " selected object (array([[0.6319753]], dtype=float32), Munich) \n",
      "\n",
      "result  {'score': 0.5693798065185547, 'token': 1451, 'token_str': ' beat', 'sequence': 'Borussia Dortmund were the second German club to win the Intercontinental Cup, after Bayern Munich in 1976.As defending champions Dortmund reached the Champions League semi-final in 1998. Borussia Dortmund beat Munich.'}\n",
      "All objects:  [Cup, Munich, champions, League, 1998] from [array([[0.67901766]], dtype=float32), Borussia Dortmund were the second German club to win the Intercontinental Cup, after Bayern Munich in 1976.As defending champions Dortmund reached the Champions League semi-final in 1998.]\n",
      "sim [(array([[0.6319753]], dtype=float32), Munich), (array([[0.3054096]], dtype=float32), Cup), (array([[0.24875253]], dtype=float32), 1998), (array([[0.20569219]], dtype=float32), champions), (array([[0.1920844]], dtype=float32), League)]\n",
      "\n",
      " selected object (array([[0.6319753]], dtype=float32), Munich) \n",
      "\n",
      "result  {'score': 0.5693798065185547, 'token': 1451, 'token_str': ' beat', 'sequence': 'Borussia Dortmund were the second German club to win the Intercontinental Cup, after Bayern Munich in 1976.As defending champions Dortmund reached the Champions League semi-final in 1998. Borussia Dortmund beat Munich.'}\n",
      "None False\n"
     ]
    }
   ],
   "source": [
    "update = False\n",
    "finalSentence = None\n",
    "for candidate in candidates[:5]:\n",
    "    # objects = [print(token, token.dep_) for token in candidate[1]]\n",
    "    objects = [token for token in candidate[1] if token.dep_ == 'dobj' or token.dep_ == 'pobj']\n",
    "    similarities = [(cosine_sim(o.text, 'Germany'), o) for o in objects]\n",
    "    similarities.sort(reverse=True)\n",
    "    print('All objects: ', objects, 'from', candidate)\n",
    "    print('sim', similarities)\n",
    "    obj = similarities[0]\n",
    "    print('\\n selected object', obj, '\\n')\n",
    "    if classifier(f\"{candidate[1].text} Borussia Dortmund <mask> {obj[1].text}.\")[0][\"score\"] >= .008: # TODO: consider a higher threshhold. WHat about ambiguity?\n",
    "        result = classifier(f\"{candidate[1].text} Borussia Dortmund <mask> {obj[1]}.\")[0]\n",
    "        pred = result['token_str']\n",
    "        print('result ', result)\n",
    "        if cosine_sim(f'{pred} {obj[1].text}', 'country of origin Germany') > 0.6: # TODO: change threshold!!\n",
    "            update = True\n",
    "            finalSentence = result['sequence']\n",
    "            break\n",
    "            \n",
    "print(finalSentence, update)"
   ]
  }
 ],
 "metadata": {
  "kernelspec": {
   "display_name": "Python 3 (ipykernel)",
   "language": "python",
   "name": "python3"
  },
  "language_info": {
   "codemirror_mode": {
    "name": "ipython",
    "version": 3
   },
   "file_extension": ".py",
   "mimetype": "text/x-python",
   "name": "python",
   "nbconvert_exporter": "python",
   "pygments_lexer": "ipython3",
   "version": "3.8.10"
  }
 },
 "nbformat": 4,
 "nbformat_minor": 5
}
